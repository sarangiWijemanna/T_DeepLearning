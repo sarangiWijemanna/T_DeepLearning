{
  "cells": [
    {
      "cell_type": "markdown",
      "metadata": {
        "id": "bTu7f95O9LYp"
      },
      "source": [
        "#  Incident Root Cause Analysis - IT Operations 💻\n",
        "\n",
        "Incident Reports in ITOps usually states the symptoms. Identifying the root cause of the symptom quickly is a key determinant to reducing resolution times and improving user satisfaction."
      ]
    },
    {
      "cell_type": "markdown",
      "metadata": {
        "id": "5oO4KxzI9LYv"
      },
      "source": [
        "## 1. Preprocessing Incident Data"
      ]
    },
    {
      "cell_type": "markdown",
      "source": [
        "### 1.1 Loading the Dataset"
      ],
      "metadata": {
        "id": "ESbRWlQ69uMr"
      }
    },
    {
      "cell_type": "code",
      "execution_count": 6,
      "metadata": {
        "scrolled": true,
        "id": "5Br0_zci9LYw"
      },
      "outputs": [],
      "source": [
        "import pandas as pd\n",
        "import os\n",
        "import tensorflow as tf"
      ]
    },
    {
      "cell_type": "code",
      "source": [
        "#Load the data file into a Pandas Dataframe\n",
        "symptom_data = pd.read_csv(\"root_cause_analysis.csv\")\n",
        "\n",
        "#Explore the data loaded\n",
        "print(symptom_data.dtypes)\n",
        "symptom_data.head()"
      ],
      "metadata": {
        "colab": {
          "base_uri": "https://localhost:8080/",
          "height": 380
        },
        "id": "QZ13Cc_1-TUd",
        "outputId": "2d6c06fc-9fc5-4bc9-b6da-973feeae0245"
      },
      "execution_count": 7,
      "outputs": [
        {
          "output_type": "stream",
          "name": "stdout",
          "text": [
            "ID                   int64\n",
            "CPU_LOAD             int64\n",
            "MEMORY_LEAK_LOAD     int64\n",
            "DELAY                int64\n",
            "ERROR_1000           int64\n",
            "ERROR_1001           int64\n",
            "ERROR_1002           int64\n",
            "ERROR_1003           int64\n",
            "ROOT_CAUSE          object\n",
            "dtype: object\n"
          ]
        },
        {
          "output_type": "execute_result",
          "data": {
            "text/plain": [
              "   ID  CPU_LOAD  MEMORY_LEAK_LOAD  DELAY  ERROR_1000  ERROR_1001  ERROR_1002  \\\n",
              "0   1         0                 0      0           0           1           0   \n",
              "1   2         0                 0      0           0           0           0   \n",
              "2   3         0                 1      1           0           0           1   \n",
              "3   4         0                 1      0           1           1           0   \n",
              "4   5         1                 1      0           1           0           1   \n",
              "\n",
              "   ERROR_1003     ROOT_CAUSE  \n",
              "0           1    MEMORY_LEAK  \n",
              "1           1    MEMORY_LEAK  \n",
              "2           1    MEMORY_LEAK  \n",
              "3           1    MEMORY_LEAK  \n",
              "4           0  NETWORK_DELAY  "
            ],
            "text/html": [
              "\n",
              "  <div id=\"df-aa019614-c835-485a-b36e-74e4046f421b\">\n",
              "    <div class=\"colab-df-container\">\n",
              "      <div>\n",
              "<style scoped>\n",
              "    .dataframe tbody tr th:only-of-type {\n",
              "        vertical-align: middle;\n",
              "    }\n",
              "\n",
              "    .dataframe tbody tr th {\n",
              "        vertical-align: top;\n",
              "    }\n",
              "\n",
              "    .dataframe thead th {\n",
              "        text-align: right;\n",
              "    }\n",
              "</style>\n",
              "<table border=\"1\" class=\"dataframe\">\n",
              "  <thead>\n",
              "    <tr style=\"text-align: right;\">\n",
              "      <th></th>\n",
              "      <th>ID</th>\n",
              "      <th>CPU_LOAD</th>\n",
              "      <th>MEMORY_LEAK_LOAD</th>\n",
              "      <th>DELAY</th>\n",
              "      <th>ERROR_1000</th>\n",
              "      <th>ERROR_1001</th>\n",
              "      <th>ERROR_1002</th>\n",
              "      <th>ERROR_1003</th>\n",
              "      <th>ROOT_CAUSE</th>\n",
              "    </tr>\n",
              "  </thead>\n",
              "  <tbody>\n",
              "    <tr>\n",
              "      <th>0</th>\n",
              "      <td>1</td>\n",
              "      <td>0</td>\n",
              "      <td>0</td>\n",
              "      <td>0</td>\n",
              "      <td>0</td>\n",
              "      <td>1</td>\n",
              "      <td>0</td>\n",
              "      <td>1</td>\n",
              "      <td>MEMORY_LEAK</td>\n",
              "    </tr>\n",
              "    <tr>\n",
              "      <th>1</th>\n",
              "      <td>2</td>\n",
              "      <td>0</td>\n",
              "      <td>0</td>\n",
              "      <td>0</td>\n",
              "      <td>0</td>\n",
              "      <td>0</td>\n",
              "      <td>0</td>\n",
              "      <td>1</td>\n",
              "      <td>MEMORY_LEAK</td>\n",
              "    </tr>\n",
              "    <tr>\n",
              "      <th>2</th>\n",
              "      <td>3</td>\n",
              "      <td>0</td>\n",
              "      <td>1</td>\n",
              "      <td>1</td>\n",
              "      <td>0</td>\n",
              "      <td>0</td>\n",
              "      <td>1</td>\n",
              "      <td>1</td>\n",
              "      <td>MEMORY_LEAK</td>\n",
              "    </tr>\n",
              "    <tr>\n",
              "      <th>3</th>\n",
              "      <td>4</td>\n",
              "      <td>0</td>\n",
              "      <td>1</td>\n",
              "      <td>0</td>\n",
              "      <td>1</td>\n",
              "      <td>1</td>\n",
              "      <td>0</td>\n",
              "      <td>1</td>\n",
              "      <td>MEMORY_LEAK</td>\n",
              "    </tr>\n",
              "    <tr>\n",
              "      <th>4</th>\n",
              "      <td>5</td>\n",
              "      <td>1</td>\n",
              "      <td>1</td>\n",
              "      <td>0</td>\n",
              "      <td>1</td>\n",
              "      <td>0</td>\n",
              "      <td>1</td>\n",
              "      <td>0</td>\n",
              "      <td>NETWORK_DELAY</td>\n",
              "    </tr>\n",
              "  </tbody>\n",
              "</table>\n",
              "</div>\n",
              "      <button class=\"colab-df-convert\" onclick=\"convertToInteractive('df-aa019614-c835-485a-b36e-74e4046f421b')\"\n",
              "              title=\"Convert this dataframe to an interactive table.\"\n",
              "              style=\"display:none;\">\n",
              "        \n",
              "  <svg xmlns=\"http://www.w3.org/2000/svg\" height=\"24px\"viewBox=\"0 0 24 24\"\n",
              "       width=\"24px\">\n",
              "    <path d=\"M0 0h24v24H0V0z\" fill=\"none\"/>\n",
              "    <path d=\"M18.56 5.44l.94 2.06.94-2.06 2.06-.94-2.06-.94-.94-2.06-.94 2.06-2.06.94zm-11 1L8.5 8.5l.94-2.06 2.06-.94-2.06-.94L8.5 2.5l-.94 2.06-2.06.94zm10 10l.94 2.06.94-2.06 2.06-.94-2.06-.94-.94-2.06-.94 2.06-2.06.94z\"/><path d=\"M17.41 7.96l-1.37-1.37c-.4-.4-.92-.59-1.43-.59-.52 0-1.04.2-1.43.59L10.3 9.45l-7.72 7.72c-.78.78-.78 2.05 0 2.83L4 21.41c.39.39.9.59 1.41.59.51 0 1.02-.2 1.41-.59l7.78-7.78 2.81-2.81c.8-.78.8-2.07 0-2.86zM5.41 20L4 18.59l7.72-7.72 1.47 1.35L5.41 20z\"/>\n",
              "  </svg>\n",
              "      </button>\n",
              "      \n",
              "  <style>\n",
              "    .colab-df-container {\n",
              "      display:flex;\n",
              "      flex-wrap:wrap;\n",
              "      gap: 12px;\n",
              "    }\n",
              "\n",
              "    .colab-df-convert {\n",
              "      background-color: #E8F0FE;\n",
              "      border: none;\n",
              "      border-radius: 50%;\n",
              "      cursor: pointer;\n",
              "      display: none;\n",
              "      fill: #1967D2;\n",
              "      height: 32px;\n",
              "      padding: 0 0 0 0;\n",
              "      width: 32px;\n",
              "    }\n",
              "\n",
              "    .colab-df-convert:hover {\n",
              "      background-color: #E2EBFA;\n",
              "      box-shadow: 0px 1px 2px rgba(60, 64, 67, 0.3), 0px 1px 3px 1px rgba(60, 64, 67, 0.15);\n",
              "      fill: #174EA6;\n",
              "    }\n",
              "\n",
              "    [theme=dark] .colab-df-convert {\n",
              "      background-color: #3B4455;\n",
              "      fill: #D2E3FC;\n",
              "    }\n",
              "\n",
              "    [theme=dark] .colab-df-convert:hover {\n",
              "      background-color: #434B5C;\n",
              "      box-shadow: 0px 1px 3px 1px rgba(0, 0, 0, 0.15);\n",
              "      filter: drop-shadow(0px 1px 2px rgba(0, 0, 0, 0.3));\n",
              "      fill: #FFFFFF;\n",
              "    }\n",
              "  </style>\n",
              "\n",
              "      <script>\n",
              "        const buttonEl =\n",
              "          document.querySelector('#df-aa019614-c835-485a-b36e-74e4046f421b button.colab-df-convert');\n",
              "        buttonEl.style.display =\n",
              "          google.colab.kernel.accessAllowed ? 'block' : 'none';\n",
              "\n",
              "        async function convertToInteractive(key) {\n",
              "          const element = document.querySelector('#df-aa019614-c835-485a-b36e-74e4046f421b');\n",
              "          const dataTable =\n",
              "            await google.colab.kernel.invokeFunction('convertToInteractive',\n",
              "                                                     [key], {});\n",
              "          if (!dataTable) return;\n",
              "\n",
              "          const docLinkHtml = 'Like what you see? Visit the ' +\n",
              "            '<a target=\"_blank\" href=https://colab.research.google.com/notebooks/data_table.ipynb>data table notebook</a>'\n",
              "            + ' to learn more about interactive tables.';\n",
              "          element.innerHTML = '';\n",
              "          dataTable['output_type'] = 'display_data';\n",
              "          await google.colab.output.renderOutput(dataTable, element);\n",
              "          const docLink = document.createElement('div');\n",
              "          docLink.innerHTML = docLinkHtml;\n",
              "          element.appendChild(docLink);\n",
              "        }\n",
              "      </script>\n",
              "    </div>\n",
              "  </div>\n",
              "  "
            ]
          },
          "metadata": {},
          "execution_count": 7
        }
      ]
    },
    {
      "cell_type": "markdown",
      "metadata": {
        "id": "Mssot0ke9LYz"
      },
      "source": [
        "### 1.2 Convert  data\n",
        "\n",
        "Input data needs to be converted to formats that can be consumed by ML algorithms"
      ]
    },
    {
      "cell_type": "code",
      "execution_count": 2,
      "metadata": {
        "colab": {
          "base_uri": "https://localhost:8080/"
        },
        "id": "7L5sod829LY0",
        "outputId": "c0a6e610-b68d-4ab1-b94d-fc4ac5ff3d4a"
      },
      "outputs": [
        {
          "output_type": "stream",
          "name": "stdout",
          "text": [
            "Shape of feature variables : (900, 7)\n",
            "Shape of target variable : (900, 3)\n"
          ]
        }
      ],
      "source": [
        "from sklearn import preprocessing\n",
        "from sklearn.model_selection import train_test_split\n",
        "\n",
        "label_encoder = preprocessing.LabelEncoder()\n",
        "symptom_data['ROOT_CAUSE'] = label_encoder.fit_transform(\n",
        "                                symptom_data['ROOT_CAUSE'])\n",
        "\n",
        "#Convert Pandas DataFrame to a numpy vector\n",
        "np_symptom = symptom_data.to_numpy().astype(float)\n",
        "\n",
        "#Extract the feature variables (X)\n",
        "X_data = np_symptom[:,1:8]\n",
        "\n",
        "#Extract the target variable (Y), conver to one-hot-encodign\n",
        "Y_data=np_symptom[:,8]\n",
        "Y_data = tf.keras.utils.to_categorical(Y_data,3)\n",
        "\n",
        "#Split training and test data\n",
        "X_train,X_test,Y_train,Y_test = train_test_split( X_data, Y_data, test_size=0.10)\n",
        "\n",
        "print(\"Shape of feature variables :\", X_train.shape)\n",
        "print(\"Shape of target variable :\",Y_train.shape)"
      ]
    },
    {
      "cell_type": "markdown",
      "metadata": {
        "id": "ArugN0GA9LY1"
      },
      "source": [
        "## 2. Building and evaluating the model"
      ]
    },
    {
      "cell_type": "code",
      "execution_count": 3,
      "metadata": {
        "colab": {
          "base_uri": "https://localhost:8080/"
        },
        "id": "MZeSf8w39LY2",
        "outputId": "8ff81fb8-9d86-48b8-9ca4-47747c982522"
      },
      "outputs": [
        {
          "output_type": "stream",
          "name": "stdout",
          "text": [
            "Model: \"sequential\"\n",
            "_________________________________________________________________\n",
            " Layer (type)                Output Shape              Param #   \n",
            "=================================================================\n",
            " Dense-Layer-1 (Dense)       (None, 128)               1024      \n",
            "                                                                 \n",
            " Dense-Layer-2 (Dense)       (None, 128)               16512     \n",
            "                                                                 \n",
            " Final (Dense)               (None, 3)                 387       \n",
            "                                                                 \n",
            "=================================================================\n",
            "Total params: 17,923\n",
            "Trainable params: 17,923\n",
            "Non-trainable params: 0\n",
            "_________________________________________________________________\n",
            "Epoch 1/20\n",
            "12/12 [==============================] - 1s 22ms/step - loss: 0.8795 - accuracy: 0.7056 - val_loss: 0.7013 - val_accuracy: 0.7833\n",
            "Epoch 2/20\n",
            "12/12 [==============================] - 0s 4ms/step - loss: 0.6271 - accuracy: 0.8125 - val_loss: 0.5739 - val_accuracy: 0.7556\n",
            "Epoch 3/20\n",
            "12/12 [==============================] - 0s 4ms/step - loss: 0.5283 - accuracy: 0.8125 - val_loss: 0.4969 - val_accuracy: 0.8167\n",
            "Epoch 4/20\n",
            "12/12 [==============================] - 0s 4ms/step - loss: 0.4806 - accuracy: 0.8264 - val_loss: 0.4904 - val_accuracy: 0.7889\n",
            "Epoch 5/20\n",
            "12/12 [==============================] - 0s 4ms/step - loss: 0.4703 - accuracy: 0.8278 - val_loss: 0.4608 - val_accuracy: 0.8056\n",
            "Epoch 6/20\n",
            "12/12 [==============================] - 0s 4ms/step - loss: 0.4441 - accuracy: 0.8361 - val_loss: 0.4773 - val_accuracy: 0.8111\n",
            "Epoch 7/20\n",
            "12/12 [==============================] - 0s 4ms/step - loss: 0.4474 - accuracy: 0.8375 - val_loss: 0.4674 - val_accuracy: 0.8167\n",
            "Epoch 8/20\n",
            "12/12 [==============================] - 0s 3ms/step - loss: 0.4361 - accuracy: 0.8417 - val_loss: 0.4490 - val_accuracy: 0.8222\n",
            "Epoch 9/20\n",
            "12/12 [==============================] - 0s 4ms/step - loss: 0.4326 - accuracy: 0.8431 - val_loss: 0.4448 - val_accuracy: 0.8222\n",
            "Epoch 10/20\n",
            "12/12 [==============================] - 0s 4ms/step - loss: 0.4270 - accuracy: 0.8417 - val_loss: 0.4580 - val_accuracy: 0.8278\n",
            "Epoch 11/20\n",
            "12/12 [==============================] - 0s 3ms/step - loss: 0.4216 - accuracy: 0.8472 - val_loss: 0.4339 - val_accuracy: 0.8167\n",
            "Epoch 12/20\n",
            "12/12 [==============================] - 0s 5ms/step - loss: 0.4146 - accuracy: 0.8528 - val_loss: 0.4878 - val_accuracy: 0.8000\n",
            "Epoch 13/20\n",
            "12/12 [==============================] - 0s 4ms/step - loss: 0.4132 - accuracy: 0.8514 - val_loss: 0.4486 - val_accuracy: 0.8278\n",
            "Epoch 14/20\n",
            "12/12 [==============================] - 0s 3ms/step - loss: 0.4088 - accuracy: 0.8528 - val_loss: 0.4565 - val_accuracy: 0.8167\n",
            "Epoch 15/20\n",
            "12/12 [==============================] - 0s 4ms/step - loss: 0.4027 - accuracy: 0.8472 - val_loss: 0.4345 - val_accuracy: 0.8222\n",
            "Epoch 16/20\n",
            "12/12 [==============================] - 0s 4ms/step - loss: 0.4037 - accuracy: 0.8528 - val_loss: 0.4209 - val_accuracy: 0.8056\n",
            "Epoch 17/20\n",
            "12/12 [==============================] - 0s 4ms/step - loss: 0.3956 - accuracy: 0.8556 - val_loss: 0.4234 - val_accuracy: 0.8056\n",
            "Epoch 18/20\n",
            "12/12 [==============================] - 0s 4ms/step - loss: 0.4019 - accuracy: 0.8500 - val_loss: 0.4190 - val_accuracy: 0.8278\n",
            "Epoch 19/20\n",
            "12/12 [==============================] - 0s 4ms/step - loss: 0.3927 - accuracy: 0.8528 - val_loss: 0.4040 - val_accuracy: 0.8000\n",
            "Epoch 20/20\n",
            "12/12 [==============================] - 0s 4ms/step - loss: 0.3883 - accuracy: 0.8472 - val_loss: 0.4055 - val_accuracy: 0.8333\n",
            "\n",
            "Evaluation against Test Dataset :\n",
            "------------------------------------\n",
            "4/4 [==============================] - 0s 3ms/step - loss: 0.3735 - accuracy: 0.8700\n"
          ]
        },
        {
          "output_type": "execute_result",
          "data": {
            "text/plain": [
              "[0.3734510540962219, 0.8700000047683716]"
            ]
          },
          "metadata": {},
          "execution_count": 3
        }
      ],
      "source": [
        "from tensorflow import keras\n",
        "from tensorflow.keras import optimizers\n",
        "from tensorflow.keras.regularizers import l2\n",
        "\n",
        "#Setup Training Parameters\n",
        "EPOCHS=20\n",
        "BATCH_SIZE=64\n",
        "VERBOSE=1\n",
        "OUTPUT_CLASSES=len(label_encoder.classes_)\n",
        "N_HIDDEN=128\n",
        "VALIDATION_SPLIT=0.2\n",
        "\n",
        "#Create a Keras sequential model\n",
        "model = tf.keras.models.Sequential()\n",
        "#Add a Dense Layer\n",
        "model.add(keras.layers.Dense(N_HIDDEN,\n",
        "                             input_shape=(7,),\n",
        "                              name='Dense-Layer-1',\n",
        "                              activation='relu'))\n",
        "\n",
        "#Add a second dense layer\n",
        "model.add(keras.layers.Dense(N_HIDDEN,\n",
        "                              name='Dense-Layer-2',\n",
        "                              activation='relu'))\n",
        "\n",
        "#Add a softmax layer for categorial prediction\n",
        "model.add(keras.layers.Dense(OUTPUT_CLASSES,\n",
        "                             name='Final',\n",
        "                             activation='softmax'))\n",
        "\n",
        "#Compile the model\n",
        "model.compile(\n",
        "              loss='categorical_crossentropy',\n",
        "              metrics=['accuracy'])\n",
        "\n",
        "\n",
        "model.summary()\n",
        "\n",
        "#Build the model\n",
        "model.fit(X_train,\n",
        "          Y_train,\n",
        "          batch_size=BATCH_SIZE,\n",
        "          epochs=EPOCHS,\n",
        "          verbose=VERBOSE,\n",
        "          validation_split=VALIDATION_SPLIT)\n",
        "\n",
        "\n",
        "#Evaluate the model against the test dataset and print results\n",
        "print(\"\\nEvaluation against Test Dataset :\\n------------------------------------\")\n",
        "model.evaluate(X_test,Y_test)"
      ]
    },
    {
      "cell_type": "markdown",
      "metadata": {
        "id": "qlu1m2iQ9LY3"
      },
      "source": [
        "## 3. Predicting Root Causes"
      ]
    },
    {
      "cell_type": "code",
      "execution_count": 4,
      "metadata": {
        "colab": {
          "base_uri": "https://localhost:8080/"
        },
        "id": "tQkCJ3PB9LY4",
        "outputId": "72b303f1-ef2f-46a8-875f-cd200de84352"
      },
      "outputs": [
        {
          "output_type": "stream",
          "name": "stdout",
          "text": [
            "1/1 [==============================] - 0s 88ms/step\n",
            "['DATABASE_ISSUE']\n"
          ]
        }
      ],
      "source": [
        "#Pass individual flags to Predict the root cause\n",
        "import numpy as np\n",
        "\n",
        "CPU_LOAD=1\n",
        "MEMORY_LOAD=0\n",
        "DELAY=0\n",
        "ERROR_1000=0\n",
        "ERROR_1001=1\n",
        "ERROR_1002=1\n",
        "ERROR_1003=0\n",
        "\n",
        "prediction=np.argmax(model.predict(\n",
        "    [[CPU_LOAD,MEMORY_LOAD,DELAY,\n",
        "      ERROR_1000,ERROR_1001,ERROR_1002,ERROR_1003]]), axis=1 )\n",
        "\n",
        "print(label_encoder.inverse_transform(prediction))"
      ]
    },
    {
      "cell_type": "code",
      "execution_count": 5,
      "metadata": {
        "colab": {
          "base_uri": "https://localhost:8080/"
        },
        "id": "3pvs3Lg99LY5",
        "outputId": "c6d077cb-64ad-4ca2-df7d-a0cdad1c05af"
      },
      "outputs": [
        {
          "output_type": "stream",
          "name": "stdout",
          "text": [
            "1/1 [==============================] - 0s 27ms/step\n",
            "['DATABASE_ISSUE' 'NETWORK_DELAY' 'MEMORY_LEAK' 'DATABASE_ISSUE'\n",
            " 'DATABASE_ISSUE']\n"
          ]
        }
      ],
      "source": [
        "#Predicting as a Batch\n",
        "print(label_encoder.inverse_transform(np.argmax(\n",
        "        model.predict([[1,0,0,0,1,1,0],\n",
        "                                [0,1,1,1,0,0,0],\n",
        "                                [1,1,0,1,1,0,1],\n",
        "                                [0,0,0,0,0,1,0],\n",
        "                                [1,0,1,0,1,1,1]]), axis=1 )))"
      ]
    }
  ],
  "metadata": {
    "kernelspec": {
      "display_name": "Python 3 (ipykernel)",
      "language": "python",
      "name": "python3"
    },
    "language_info": {
      "codemirror_mode": {
        "name": "ipython",
        "version": 3
      },
      "file_extension": ".py",
      "mimetype": "text/x-python",
      "name": "python",
      "nbconvert_exporter": "python",
      "pygments_lexer": "ipython3",
      "version": "3.8.11"
    },
    "colab": {
      "provenance": [],
      "toc_visible": true
    }
  },
  "nbformat": 4,
  "nbformat_minor": 0
}